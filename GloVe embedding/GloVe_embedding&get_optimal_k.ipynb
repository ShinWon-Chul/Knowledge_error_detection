{
 "cells": [
  {
   "cell_type": "markdown",
   "metadata": {},
   "source": [
    "## import packages"
   ]
  },
  {
   "cell_type": "code",
   "execution_count": 1,
   "metadata": {},
   "outputs": [],
   "source": [
    "import numpy as np\n",
    "import pandas as pd\n",
    "import matplotlib.pyplot as plt\n",
    "from sklearn.metrics import silhouette_samples, silhouette_score\n",
    "from sklearn.cluster import KMeans\n",
    "\n",
    "import pickle\n",
    "import tf_glove\n",
    "import nltk\n",
    "import os\n",
    "import gap\n",
    "from collections import defaultdict\n",
    "import seaborn as sns"
   ]
  },
  {
   "cell_type": "markdown",
   "metadata": {},
   "source": [
    "### Dataset \n",
    "    - dbpedia / freebase / wisekb"
   ]
  },
  {
   "cell_type": "code",
   "execution_count": 2,
   "metadata": {},
   "outputs": [],
   "source": [
    "dataset = 'wisekb'"
   ]
  },
  {
   "cell_type": "markdown",
   "metadata": {},
   "source": [
    "### File locations"
   ]
  },
  {
   "cell_type": "code",
   "execution_count": 3,
   "metadata": {},
   "outputs": [],
   "source": [
    "# input : sentence file location\n",
    "input_sentence_loc = f'../data/{dataset}/property_sentences.txt'\n",
    "\n",
    "# output : embedding file locations\n",
    "output_embedding_loc = f'../data/GloVeEntityVectors/glove_{dataset}/embedding_vectors'\n",
    "output_words_loc = f'../data/GloVeEntityVectors/glove_{dataset}/vector_labels'\n",
    "\n",
    "# input : train entities locations\n",
    "train_pos_loc = f'../data/{dataset}/train_positive_20000.txt'"
   ]
  },
  {
   "cell_type": "markdown",
   "metadata": {},
   "source": [
    "### create stop word list"
   ]
  },
  {
   "cell_type": "code",
   "execution_count": 4,
   "metadata": {},
   "outputs": [
    {
     "data": {
      "text/plain": [
       "['type', 'person_00006026']"
      ]
     },
     "execution_count": 4,
     "metadata": {},
     "output_type": "execute_result"
    }
   ],
   "source": [
    "word_dict = defaultdict(lambda : 0)\n",
    "sentences = []\n",
    "with open(input_sentence_loc) as file_:\n",
    "    for line in file_:\n",
    "        if line:\n",
    "            sentences.append(line)\n",
    "            for word in nltk.wordpunct_tokenize(line):\n",
    "                word_dict[word] += 1\n",
    "sorted_dict = sorted(word_dict.items(), key = lambda item: item[1], reverse = True)\n",
    "stop_word = list(map(lambda x : x[0], sorted_dict[:2])) #stop word threshold\n",
    "stop_word"
   ]
  },
  {
   "cell_type": "markdown",
   "metadata": {},
   "source": [
    "### Training GloVe"
   ]
  },
  {
   "cell_type": "code",
   "execution_count": 5,
   "metadata": {},
   "outputs": [],
   "source": [
    "def read_file(path):\n",
    "    with open(path) as file_:\n",
    "        for line in file_:\n",
    "            if line:\n",
    "                yield line\n",
    "                \n",
    "def sentence_preprocessing(cleaned_sentence, word_index):\n",
    "    new_sentence = []\n",
    "    if word_index == 0:\n",
    "        new_sentence = cleaned_sentence[:word_index+3]\n",
    "        new_sentence += new_sentence\n",
    "        new_sentence = new_sentence[1:]\n",
    "    elif word_index == len(cleaned_sentence)-1:\n",
    "        if word_index-2 < 0:\n",
    "            new_sentence = cleaned_sentence\n",
    "            new_sentence += new_sentence\n",
    "            new_sentence = new_sentence[:-1]                    \n",
    "        else:\n",
    "            new_sentence = cleaned_sentence[word_index-2:]\n",
    "            new_sentence += new_sentence\n",
    "            new_sentence = new_sentence[:-1]\n",
    "    else:\n",
    "        if word_index < 3:\n",
    "            new_sentence = cleaned_sentence[:word_index+3]\n",
    "        else:\n",
    "            new_sentence = cleaned_sentence[word_index-2:word_index+3]\n",
    "            \n",
    "    return new_sentence\n",
    "    \n",
    "def tokenize_comment(comment_str, stop_word):\n",
    "    sentence = nltk.wordpunct_tokenize(comment_str.lower())\n",
    "    \n",
    "    cleaned_sentence = []\n",
    "    for word in sentence:\n",
    "        if word not in stop_word:\n",
    "            cleaned_sentence.append(word)\n",
    "            \n",
    "    for i, word in enumerate(cleaned_sentence):\n",
    "        if word.isdigit() and (dataset == 'freebase' or dataset == 'wisekb'):\n",
    "            new_sentence = sentence_preprocessing(cleaned_sentence, i)\n",
    "            break\n",
    "        elif 'e' in word and dataset == 'dbpedia':\n",
    "            new_sentence = sentence_preprocessing(cleaned_sentence, i)\n",
    "            break\n",
    "            \n",
    "    return new_sentence\n",
    "\n",
    "def file_corpus(path, stop_word):\n",
    "    return (tokenize_comment(comment, stop_word) for comment in read_file(path))\n",
    "\n",
    "corpus = file_corpus(input_sentence_loc, stop_word)\n",
    "\n",
    "model = tf_glove.GloVeModel(embedding_size=50, context_size=1, min_occurrences=450,\n",
    "                            learning_rate=0.1, max_vocab_size=10000000, batch_size=512)\n",
    "model.fit_to_corpus(corpus)\n",
    "model.train(num_epochs=100, summary_batch_interval=1000)"
   ]
  },
  {
   "cell_type": "markdown",
   "metadata": {},
   "source": [
    "### Save embedding vectors"
   ]
  },
  {
   "cell_type": "code",
   "execution_count": 6,
   "metadata": {},
   "outputs": [],
   "source": [
    "em = model.embeddings\n",
    "f = open(output_embedding_loc,'wb')\n",
    "pickle.dump(em,f)\n",
    "f.close()\n",
    "\n",
    "words = model.words\n",
    "f = open(output_words_loc,'wb')\n",
    "pickle.dump(words,f)\n",
    "f.close()"
   ]
  },
  {
   "cell_type": "markdown",
   "metadata": {},
   "source": [
    "### Load embedding vectors \n",
    "- To check files saved successfully"
   ]
  },
  {
   "cell_type": "code",
   "execution_count": 7,
   "metadata": {},
   "outputs": [
    {
     "name": "stdout",
     "output_type": "stream",
     "text": [
      "50387\n"
     ]
    }
   ],
   "source": [
    "f = open(output_embedding_loc,'rb')\n",
    "vector = pickle.load(f, encoding='latin1')\n",
    "f.close()\n",
    "\n",
    "f = open(output_words_loc,'rb')\n",
    "word = pickle.load(f, encoding='latin1')\n",
    "f.close()\n",
    " \n",
    "glove_dict = {}\n",
    "for i in range(len(vector)):\n",
    "    glove_dict[word[i]] = vector[i]\n",
    "    \n",
    "print(len(glove_dict))    "
   ]
  },
  {
   "cell_type": "markdown",
   "metadata": {},
   "source": [
    "### Load train postivie entities"
   ]
  },
  {
   "cell_type": "code",
   "execution_count": 8,
   "metadata": {},
   "outputs": [
    {
     "name": "stdout",
     "output_type": "stream",
     "text": [
      "train_pos :  20000\n",
      "['0000172266', '0000277963', '0000259063', '0000008570', '0000346284']\n"
     ]
    }
   ],
   "source": [
    "entity_list = []\n",
    "if dataset=='freebase':\n",
    "    sep = '\\t'\n",
    "else:\n",
    "    sep = ' '\n",
    "with open(train_pos_loc) as f:         \n",
    "    for i in f:\n",
    "        entity_list.append(i.split(sep)[0].strip())\n",
    "        \n",
    "print('train_pos : ',len(entity_list))\n",
    "print(entity_list[:5])"
   ]
  },
  {
   "cell_type": "markdown",
   "metadata": {},
   "source": [
    "### get optimal K for K-means algorithm \n",
    "- get the silhouette score\n",
    "- use gap statistics"
   ]
  },
  {
   "cell_type": "code",
   "execution_count": 9,
   "metadata": {},
   "outputs": [],
   "source": [
    "entity_vectors = np.array([glove_dict[n.split()[0].strip()] for n in entity_list])"
   ]
  },
  {
   "cell_type": "code",
   "execution_count": 10,
   "metadata": {},
   "outputs": [
    {
     "data": {
      "image/png": "[encoded data removed]",
      "text/plain": [
       "<Figure size 432x288 with 2 Axes>"
      ]
     },
     "metadata": {
      "needs_background": "light"
     },
     "output_type": "display_data"
    }
   ],
   "source": [
    "def visualize_silhouette_layer(data, param_init='random', param_n_init=5, param_max_iter=300):\n",
    "    clusters_range = range(2,40)\n",
    "    results = []\n",
    "\n",
    "    for i in clusters_range:\n",
    "        clusterer = KMeans(n_clusters=i, init=param_init, n_init=param_n_init, max_iter=param_max_iter, random_state=0)\n",
    "        cluster_labels = clusterer.fit_predict(data)\n",
    "        silhouette_avg = silhouette_score(data, cluster_labels)\n",
    "        results.append([i, silhouette_avg])\n",
    "\n",
    "    result = pd.DataFrame(results, columns=[\"n_clusters\", \"silhouette_score\"])\n",
    "    pivot_km = pd.pivot_table(result, index=\"n_clusters\", values=\"silhouette_score\")\n",
    "\n",
    "    plt.figure()\n",
    "    sns.heatmap(pivot_km, annot=True, linewidths=.5, fmt='.3f', cmap=sns.cm._rocket_lut)\n",
    "    plt.tight_layout()\n",
    "    plt.show()\n",
    "    plt.close()\n",
    "    \n",
    "visualize_silhouette_layer(entity_vectors)"
   ]
  },
  {
   "cell_type": "code",
   "execution_count": 11,
   "metadata": {},
   "outputs": [
    {
     "data": {
      "image/png": "[encoded data removed]",
      "text/plain": [
       "<Figure size 432x288 with 1 Axes>"
      ]
     },
     "metadata": {
      "needs_background": "light"
     },
     "output_type": "display_data"
    },
    {
     "name": "stdout",
     "output_type": "stream",
     "text": [
      "21\n"
     ]
    }
   ],
   "source": [
    "gaps, sk, K = gap.gap_statistic(entity_vectors)\n",
    "plt.plot(K, gaps,'rx-')\n",
    "plt.show()\n",
    "opt_k = gap.find_optimal_k(gaps, sk, K)\n",
    "print(opt_k)"
   ]
  },
  {
   "cell_type": "code",
   "execution_count": null,
   "metadata": {},
   "outputs": [],
   "source": []
  }
 ],
 "metadata": {
  "kernelspec": {
   "display_name": "Python 3",
   "language": "python",
   "name": "python3"
  },
  "language_info": {
   "codemirror_mode": {
    "name": "ipython",
    "version": 3
   },
   "file_extension": ".py",
   "mimetype": "text/x-python",
   "name": "python",
   "nbconvert_exporter": "python",
   "pygments_lexer": "ipython3",
   "version": "3.6.10"
  }
 },
 "nbformat": 4,
 "nbformat_minor": 2
}
